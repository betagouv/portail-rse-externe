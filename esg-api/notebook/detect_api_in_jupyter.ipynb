{
 "cells": [
  {
   "cell_type": "markdown",
   "metadata": {
    "id": "M5ASv8BAYj9e"
   },
   "source": [
    "# Colab Notebook - Detect ESRS in a pdf\n",
    "\n",
    "\n"
   ]
  },
  {
   "cell_type": "markdown",
   "metadata": {
    "id": "tueg7xoQi9MP"
   },
   "source": [
    "# Manage Packages"
   ]
  },
  {
   "cell_type": "markdown",
   "metadata": {
    "id": "kv6Iz7NziEmV"
   },
   "source": [
    "## Import standard package"
   ]
  },
  {
   "cell_type": "code",
   "execution_count": 1,
   "metadata": {
    "id": "CfwM3SyxfSJP"
   },
   "outputs": [
    {
     "name": "stderr",
     "output_type": "stream",
     "text": [
      "/Users/francoisbullier/Library/Python/3.9/lib/python/site-packages/urllib3/__init__.py:35: NotOpenSSLWarning: urllib3 v2 only supports OpenSSL 1.1.1+, currently the 'ssl' module is compiled with 'LibreSSL 2.8.3'. See: https://github.com/urllib3/urllib3/issues/3020\n",
      "  warnings.warn(\n"
     ]
    }
   ],
   "source": [
    "import os\n",
    "import time as time\n",
    "import pandas as pd\n",
    "import requests"
   ]
  },
  {
   "cell_type": "code",
   "execution_count": 2,
   "metadata": {},
   "outputs": [],
   "source": [
    "import warnings\n",
    "from requests.packages.urllib3.exceptions import InsecureRequestWarning\n",
    "warnings.simplefilter(\"ignore\", InsecureRequestWarning)"
   ]
  },
  {
   "cell_type": "markdown",
   "metadata": {
    "id": "wsX77gMF8N0L"
   },
   "source": [
    "# Use ESRS Propsector API"
   ]
  },
  {
   "cell_type": "markdown",
   "metadata": {
    "id": "gAYxsLMvJyKm"
   },
   "source": [
    "## Globals"
   ]
  },
  {
   "cell_type": "code",
   "execution_count": 3,
   "metadata": {
    "colab": {
     "base_uri": "https://localhost:8080/",
     "height": 36
    },
    "id": "Yl2YiZwDInxL",
    "outputId": "b6ab1dcd-875f-4f1a-a6be-9935e5481eb7"
   },
   "outputs": [
    {
     "data": {
      "text/plain": [
       "'/Users/francoisbullier/Projets/esg-api/notebook'"
      ]
     },
     "execution_count": 3,
     "metadata": {},
     "output_type": "execute_result"
    }
   ],
   "source": [
    "# Get current dir\n",
    "os.getcwd()"
   ]
  },
  {
   "cell_type": "code",
   "execution_count": 4,
   "metadata": {},
   "outputs": [],
   "source": [
    "filename = \"YOUR_PDF_FILE_NAME\""
   ]
  },
  {
   "cell_type": "code",
   "execution_count": 6,
   "metadata": {},
   "outputs": [],
   "source": [
    "api_url = \"https://YOUR_SERVERNAME.COM\""
   ]
  },
  {
   "cell_type": "markdown",
   "metadata": {
    "id": "t7iP26dWNQf5"
   },
   "source": [
    "## Get API status"
   ]
  },
  {
   "cell_type": "code",
   "execution_count": 7,
   "metadata": {
    "colab": {
     "base_uri": "https://localhost:8080/"
    },
    "id": "uuJpnF0m8GOp",
    "outputId": "e1ec592e-6405-40b1-dece-2cdd2fea7465"
   },
   "outputs": [
    {
     "name": "stdout",
     "output_type": "stream",
     "text": [
      "{'status': {'code': 0, 'msg': 'API is alive'}}\n",
      "       - Elapsed time : 0 s\n"
     ]
    }
   ],
   "source": [
    "try:\n",
    "  t0 = time.time()\n",
    "  response = requests.get(api_url+\"/ping\", verify=False)\n",
    "  print(response.json())\n",
    "  print(\"       - Elapsed time :\", round(time.time()-t0), \"s\")\n",
    "except requests.exceptions.HTTPError as errh:\n",
    "    print(errh)\n",
    "except requests.exceptions.ConnectionError as errc:\n",
    "    print(errc)\n",
    "except requests.exceptions.Timeout as errt:\n",
    "    print(errt)\n",
    "except requests.exceptions.RequestException as err:\n",
    "    print(err)"
   ]
  },
  {
   "cell_type": "markdown",
   "metadata": {
    "id": "KIc2r-x1NXDW"
   },
   "source": [
    "## Post a pdf file"
   ]
  },
  {
   "cell_type": "markdown",
   "metadata": {
    "id": "4DSV1yfpNb8f"
   },
   "source": [
    "### Senf PDF file to API"
   ]
  },
  {
   "cell_type": "code",
   "execution_count": 8,
   "metadata": {
    "colab": {
     "base_uri": "https://localhost:8080/"
    },
    "id": "vE0j9is7LGt7",
    "outputId": "4524f3a1-a71e-4c99-dcfd-fcfc040f0851"
   },
   "outputs": [
    {
     "name": "stdout",
     "output_type": "stream",
     "text": [
      "\n",
      "Status Code 200\n",
      "JSON Response  {'pdfkey': '9swm9fzb', 'status': {'code': 0, 'msg': 'PDF is uploaded'}}\n",
      "pdfkey : --> 9swm9fzb <--\n",
      "       - Elapsed time : 3 s\n"
     ]
    }
   ],
   "source": [
    "filepath = './'+ filename +'.pdf'\n",
    "\n",
    "try:\n",
    "\n",
    "  t0 = time.time()\n",
    "  url = api_url+'/upload'\n",
    "\n",
    "  mp = {'file':(filepath, open(filepath, 'rb'), \"multipart/form-data\")}\n",
    "  response = requests.post(url, files=mp, verify=False)\n",
    "\n",
    "  resp_dict = response.json()\n",
    "  pdfkey_dg = resp_dict.get('pdfkey')\n",
    "  print()\n",
    "  print(\"Status Code\", response.status_code)\n",
    "  print(\"JSON Response \", resp_dict)\n",
    "  print('pdfkey : -->', pdfkey_dg ,\"<--\")\n",
    "  print(\"       - Elapsed time :\", round(time.time()-t0), \"s\")\n",
    "\n",
    "except requests.exceptions.HTTPError as errh:\n",
    "    print(\"1\",errh)\n",
    "except requests.exceptions.ConnectionError as errc:\n",
    "    print(\"2\",errc)\n",
    "except requests.exceptions.Timeout as errt:\n",
    "    print(\"3\",errt)\n",
    "except requests.exceptions.RequestException as err:\n",
    "    print(\"4\",err)"
   ]
  },
  {
   "cell_type": "code",
   "execution_count": 9,
   "metadata": {
    "id": "tylYwXdvODGJ"
   },
   "outputs": [],
   "source": [
    "# List of pdf_keys and pdf documents (only one here)\n",
    "pdfkeys = [pdfkey_dg]\n",
    "pdfnames = [filename]"
   ]
  },
  {
   "cell_type": "markdown",
   "metadata": {
    "id": "HouXctTYOo9T"
   },
   "source": [
    "## Convert PDFs to texts"
   ]
  },
  {
   "cell_type": "code",
   "execution_count": 10,
   "metadata": {
    "colab": {
     "base_uri": "https://localhost:8080/"
    },
    "id": "JNUHr15tOCUq",
    "outputId": "97b4a585-ae3c-4b86-b57d-6ef656254d4e"
   },
   "outputs": [
    {
     "name": "stdout",
     "output_type": "stream",
     "text": [
      "{'nbtexts': 3572, 'status': {'code': 0, 'msg': 'PDF is converted to TXT'}}\n",
      "       - Elapsed time : 3 s\n"
     ]
    }
   ],
   "source": [
    "for k in pdfkeys:\n",
    "\n",
    "  url = api_url+\"/pdf2txt?pdfkey=\"+k\n",
    "\n",
    "  try:\n",
    "    t0 = time.time()\n",
    "    response = requests.get(url, verify=False)\n",
    "    print(response.json())\n",
    "    print(\"       - Elapsed time :\", round(time.time()-t0), \"s\")\n",
    "\n",
    "  except requests.exceptions.HTTPError as errh:\n",
    "      print(errh)\n",
    "  except requests.exceptions.ConnectionError as errc:\n",
    "      print(errc)\n",
    "  except requests.exceptions.Timeout as errt:\n",
    "      print(errt)\n",
    "  except requests.exceptions.RequestException as err:\n",
    "      print(err)\n",
    "\n"
   ]
  },
  {
   "cell_type": "markdown",
   "metadata": {
    "id": "nDKuJLCXPCPD"
   },
   "source": [
    "## Predict ESRS from Texts\n"
   ]
  },
  {
   "cell_type": "code",
   "execution_count": 11,
   "metadata": {
    "colab": {
     "base_uri": "https://localhost:8080/"
    },
    "id": "ghJyjP2hPPQR",
    "outputId": "4edc06d5-e294-4f88-a909-5b31b237cb69"
   },
   "outputs": [
    {
     "name": "stdout",
     "output_type": "stream",
     "text": [
      "\n",
      " - pdf_key : 9swm9fzb\n",
      "{'status': {'code': 0, 'msg': 'ESRS predicted with success'}}\n",
      "       - Elapsed time : 180 s\n"
     ]
    }
   ],
   "source": [
    "for k in pdfkeys:\n",
    "\n",
    "  print()\n",
    "  print(\" - pdf_key :\", k)\n",
    "\n",
    "  url = api_url+\"/esrspredict?pdfkey=\"+k\n",
    "  \n",
    "  try:\n",
    "    t0 = time.time()\n",
    "    response = requests.get(url, verify=False)\n",
    "    print(response.json())    \n",
    "    print(\"       - Elapsed time :\", round(time.time()-t0), \"s\")\n",
    "\n",
    "  except requests.exceptions.HTTPError as errh:\n",
    "      print(errh)\n",
    "  except requests.exceptions.ConnectionError as errc:\n",
    "      print(errc)\n",
    "  except requests.exceptions.Timeout as errt:\n",
    "      print(errt)\n",
    "  except requests.exceptions.RequestException as err:\n",
    "      print(err)"
   ]
  },
  {
   "cell_type": "markdown",
   "metadata": {
    "id": "DoUp96z1QUTp"
   },
   "source": [
    "## Get Texts"
   ]
  },
  {
   "cell_type": "code",
   "execution_count": 12,
   "metadata": {
    "colab": {
     "base_uri": "https://localhost:8080/"
    },
    "id": "PncVh69ePP6p",
    "outputId": "af7ae805-f74d-4592-a9c0-3ca989776da3"
   },
   "outputs": [
    {
     "name": "stdout",
     "output_type": "stream",
     "text": [
      "\n",
      " - pdf_key : 9swm9fzb\n",
      "   - nb texts : 3572\n",
      "       - Elapsed time : 1 s\n"
     ]
    }
   ],
   "source": [
    "from io import StringIO\n",
    "\n",
    "texts_pd_key = {}\n",
    "\n",
    "for k in pdfkeys:\n",
    "\n",
    "  print()\n",
    "  print(\" - pdf_key :\", k)\n",
    "\n",
    "  url = api_url+\"/gettxtfile?pdfkey=\"+k\n",
    "\n",
    "  try:\n",
    "    t0 = time.time()\n",
    "    response = requests.get(url, verify=False)\n",
    "    data = StringIO(str(response.content,'utf-8'))\n",
    "    texts_pd_key[k] = pd.read_csv(data)\n",
    "    print(\"   - nb texts :\", len(texts_pd_key[k]))\n",
    "    print(\"       - Elapsed time :\", round(time.time()-t0), \"s\")\n",
    "\n",
    "  except requests.exceptions.HTTPError as errh:\n",
    "      print(errh)\n",
    "  except requests.exceptions.ConnectionError as errc:\n",
    "      print(errc)\n",
    "  except requests.exceptions.Timeout as errt:\n",
    "      print(errt)\n",
    "  except requests.exceptions.RequestException as err:\n",
    "      print(err)"
   ]
  },
  {
   "cell_type": "code",
   "execution_count": 13,
   "metadata": {
    "colab": {
     "base_uri": "https://localhost:8080/"
    },
    "id": "pkjdpoLIQYKw",
    "outputId": "e56c5486-59de-4663-c343-47a01d6dc7eb"
   },
   "outputs": [
    {
     "data": {
      "text/html": [
       "<div>\n",
       "<style scoped>\n",
       "    .dataframe tbody tr th:only-of-type {\n",
       "        vertical-align: middle;\n",
       "    }\n",
       "\n",
       "    .dataframe tbody tr th {\n",
       "        vertical-align: top;\n",
       "    }\n",
       "\n",
       "    .dataframe thead th {\n",
       "        text-align: right;\n",
       "    }\n",
       "</style>\n",
       "<table border=\"1\" class=\"dataframe\">\n",
       "  <thead>\n",
       "    <tr style=\"text-align: right;\">\n",
       "      <th></th>\n",
       "      <th>PAGES</th>\n",
       "      <th>TEXTS</th>\n",
       "    </tr>\n",
       "  </thead>\n",
       "  <tbody>\n",
       "    <tr>\n",
       "      <th>0</th>\n",
       "      <td>3</td>\n",
       "      <td>Le document d’enregistrement universel a été d...</td>\n",
       "    </tr>\n",
       "    <tr>\n",
       "      <th>1</th>\n",
       "      <td>3</td>\n",
       "      <td>Le document d’enregistrement universel peut êt...</td>\n",
       "    </tr>\n",
       "    <tr>\n",
       "      <th>2</th>\n",
       "      <td>3</td>\n",
       "      <td>Le document d’enregistrement universel est une...</td>\n",
       "    </tr>\n",
       "    <tr>\n",
       "      <th>3</th>\n",
       "      <td>3</td>\n",
       "      <td>Publicis Groupe accompagne ses clients sur l’e...</td>\n",
       "    </tr>\n",
       "    <tr>\n",
       "      <th>4</th>\n",
       "      <td>3</td>\n",
       "      <td>Les clients sont au coeur du modèle du Groupe ...</td>\n",
       "    </tr>\n",
       "    <tr>\n",
       "      <th>...</th>\n",
       "      <td>...</td>\n",
       "      <td>...</td>\n",
       "    </tr>\n",
       "    <tr>\n",
       "      <th>3567</th>\n",
       "      <td>417</td>\n",
       "      <td>220344 ;les comptes annuels de la Société pour...</td>\n",
       "    </tr>\n",
       "    <tr>\n",
       "      <th>3568</th>\n",
       "      <td>418</td>\n",
       "      <td>La version numérique de ce document est confor...</td>\n",
       "    </tr>\n",
       "    <tr>\n",
       "      <th>3569</th>\n",
       "      <td>418</td>\n",
       "      <td>Accessible aux personnes déficientes visuelles...</td>\n",
       "    </tr>\n",
       "    <tr>\n",
       "      <th>3570</th>\n",
       "      <td>418</td>\n",
       "      <td>Ce document est imprimé en France par un impri...</td>\n",
       "    </tr>\n",
       "    <tr>\n",
       "      <th>3571</th>\n",
       "      <td>418</td>\n",
       "      <td>guru86/iStock/Getty Images Plus, Omelchenko/Sh...</td>\n",
       "    </tr>\n",
       "  </tbody>\n",
       "</table>\n",
       "<p>3572 rows × 2 columns</p>\n",
       "</div>"
      ],
      "text/plain": [
       "      PAGES                                              TEXTS\n",
       "0         3  Le document d’enregistrement universel a été d...\n",
       "1         3  Le document d’enregistrement universel peut êt...\n",
       "2         3  Le document d’enregistrement universel est une...\n",
       "3         3  Publicis Groupe accompagne ses clients sur l’e...\n",
       "4         3  Les clients sont au coeur du modèle du Groupe ...\n",
       "...     ...                                                ...\n",
       "3567    417  220344 ;les comptes annuels de la Société pour...\n",
       "3568    418  La version numérique de ce document est confor...\n",
       "3569    418  Accessible aux personnes déficientes visuelles...\n",
       "3570    418  Ce document est imprimé en France par un impri...\n",
       "3571    418  guru86/iStock/Getty Images Plus, Omelchenko/Sh...\n",
       "\n",
       "[3572 rows x 2 columns]"
      ]
     },
     "execution_count": 13,
     "metadata": {},
     "output_type": "execute_result"
    }
   ],
   "source": [
    "texts_pd_key.get(pdfkeys[0])#.TEXTS"
   ]
  },
  {
   "cell_type": "markdown",
   "metadata": {
    "id": "7t3mHg7fTTtF"
   },
   "source": [
    "## Get predictions\n",
    "\n"
   ]
  },
  {
   "cell_type": "code",
   "execution_count": 16,
   "metadata": {},
   "outputs": [
    {
     "data": {
      "text/html": [
       "<div>\n",
       "<style scoped>\n",
       "    .dataframe tbody tr th:only-of-type {\n",
       "        vertical-align: middle;\n",
       "    }\n",
       "\n",
       "    .dataframe tbody tr th {\n",
       "        vertical-align: top;\n",
       "    }\n",
       "\n",
       "    .dataframe thead th {\n",
       "        text-align: right;\n",
       "    }\n",
       "</style>\n",
       "<table border=\"1\" class=\"dataframe\">\n",
       "  <thead>\n",
       "    <tr style=\"text-align: right;\">\n",
       "      <th></th>\n",
       "      <th>PAGES</th>\n",
       "      <th>TEXTS</th>\n",
       "      <th>ESRS</th>\n",
       "    </tr>\n",
       "  </thead>\n",
       "  <tbody>\n",
       "    <tr>\n",
       "      <th>0</th>\n",
       "      <td>3</td>\n",
       "      <td>Le document d’enregistrement universel a été d...</td>\n",
       "      <td>Non ESRS</td>\n",
       "    </tr>\n",
       "    <tr>\n",
       "      <th>1</th>\n",
       "      <td>3</td>\n",
       "      <td>Le document d’enregistrement universel peut êt...</td>\n",
       "      <td>Non ESRS</td>\n",
       "    </tr>\n",
       "    <tr>\n",
       "      <th>2</th>\n",
       "      <td>3</td>\n",
       "      <td>Le document d’enregistrement universel est une...</td>\n",
       "      <td>Non ESRS</td>\n",
       "    </tr>\n",
       "    <tr>\n",
       "      <th>3</th>\n",
       "      <td>3</td>\n",
       "      <td>Publicis Groupe accompagne ses clients sur l’e...</td>\n",
       "      <td>ESRS S4 - Consommateurs et utilisateurs finaux</td>\n",
       "    </tr>\n",
       "    <tr>\n",
       "      <th>4</th>\n",
       "      <td>3</td>\n",
       "      <td>Les clients sont au coeur du modèle du Groupe ...</td>\n",
       "      <td>ESRS S4 - Consommateurs et utilisateurs finaux</td>\n",
       "    </tr>\n",
       "  </tbody>\n",
       "</table>\n",
       "</div>"
      ],
      "text/plain": [
       "   PAGES                                              TEXTS  \\\n",
       "0      3  Le document d’enregistrement universel a été d...   \n",
       "1      3  Le document d’enregistrement universel peut êt...   \n",
       "2      3  Le document d’enregistrement universel est une...   \n",
       "3      3  Publicis Groupe accompagne ses clients sur l’e...   \n",
       "4      3  Les clients sont au coeur du modèle du Groupe ...   \n",
       "\n",
       "                                             ESRS  \n",
       "0                                        Non ESRS  \n",
       "1                                        Non ESRS  \n",
       "2                                        Non ESRS  \n",
       "3  ESRS S4 - Consommateurs et utilisateurs finaux  \n",
       "4  ESRS S4 - Consommateurs et utilisateurs finaux  "
      ]
     },
     "execution_count": 16,
     "metadata": {},
     "output_type": "execute_result"
    }
   ],
   "source": [
    "from io import StringIO\n",
    "\n",
    "preds_pd_key = {}\n",
    "\n",
    "for k in pdfkeys:\n",
    "  print()\n",
    "  print(\" - pdf_key :\", k)\n",
    "\n",
    "  df_pdf_key = pd.DataFrame([])\n",
    "\n",
    "  url = api_url+\"/getpredsfile?pdfkey=\"+k\n",
    "\n",
    "  try:\n",
    "    t0 = time.time()\n",
    "    response = requests.get(url, verify=False)\n",
    "    data = StringIO(str(response.content,'utf-8'))\n",
    "    df = pd.read_csv(data)\n",
    "    print(\"       - Elapsed time :\", round(time.time()-t0), \"s\")\n",
    "    df.head()\n",
    "\n",
    "  except requests.exceptions.HTTPError as errh:\n",
    "      print(errh)\n",
    "  except requests.exceptions.ConnectionError as errc:\n",
    "      print(errc)\n",
    "  except requests.exceptions.Timeout as errt:\n",
    "      print(errt)\n",
    "  except requests.exceptions.RequestException as err:\n",
    "      print(err)"
   ]
  },
  {
   "cell_type": "markdown",
   "metadata": {
    "id": "0SDZ93WzYqYr"
   },
   "source": [
    "## Clean pdf_key\n"
   ]
  },
  {
   "cell_type": "code",
   "execution_count": 17,
   "metadata": {
    "colab": {
     "base_uri": "https://localhost:8080/"
    },
    "id": "cas-vMTwLY_9",
    "outputId": "9013cdbb-9297-4f1b-f9a7-e5865df13510"
   },
   "outputs": [
    {
     "name": "stdout",
     "output_type": "stream",
     "text": [
      "\n",
      " - pdf_key : 9swm9fzb\n",
      "{'status': {'code': 0, 'msg': 'Cleaning done'}}\n",
      "       - Elapsed time : 0 s\n"
     ]
    }
   ],
   "source": [
    "for k in pdfkeys:\n",
    "\n",
    "  print()\n",
    "  print(\" - pdf_key :\", k)\n",
    "\n",
    "  url = api_url+\"/clean?pdfkey=\"+k\n",
    "\n",
    "  try:\n",
    "\n",
    "    t0 = time.time()\n",
    "    response = requests.get(url, verify=False)\n",
    "    print(response.json())\n",
    "    print(\"       - Elapsed time :\", round(time.time()-t0), \"s\")\n",
    "\n",
    "  except requests.exceptions.HTTPError as errh:\n",
    "      print(errh)\n",
    "  except requests.exceptions.ConnectionError as errc:\n",
    "      print(errc)\n",
    "  except requests.exceptions.Timeout as errt:\n",
    "      print(errt)\n",
    "  except requests.exceptions.RequestException as err:\n",
    "      print(err)"
   ]
  },
  {
   "cell_type": "markdown",
   "metadata": {
    "id": "jSRtuUUM8Jv4"
   },
   "source": [
    "# End of game"
   ]
  }
 ],
 "metadata": {
  "colab": {
   "machine_shape": "hm",
   "provenance": [],
   "toc_visible": true
  },
  "gpuClass": "standard",
  "kernelspec": {
   "display_name": "Python 3",
   "language": "python",
   "name": "python3"
  },
  "language_info": {
   "codemirror_mode": {
    "name": "ipython",
    "version": 3
   },
   "file_extension": ".py",
   "mimetype": "text/x-python",
   "name": "python",
   "nbconvert_exporter": "python",
   "pygments_lexer": "ipython3",
   "version": "3.9.6"
  }
 },
 "nbformat": 4,
 "nbformat_minor": 0
}
