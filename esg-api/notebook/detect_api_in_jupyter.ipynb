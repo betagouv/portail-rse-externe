{
 "cells": [
  {
   "cell_type": "markdown",
   "metadata": {
    "id": "M5ASv8BAYj9e"
   },
   "source": [
    "# Colab Notebook - Detect ESRS in a pdf\n",
    "\n",
    "\n"
   ]
  },
  {
   "cell_type": "markdown",
   "metadata": {
    "id": "tueg7xoQi9MP"
   },
   "source": [
    "# Manage Packages"
   ]
  },
  {
   "cell_type": "markdown",
   "metadata": {
    "id": "kv6Iz7NziEmV"
   },
   "source": [
    "## Import standard package"
   ]
  },
  {
   "cell_type": "code",
   "execution_count": 27,
   "metadata": {
    "id": "CfwM3SyxfSJP"
   },
   "outputs": [],
   "source": [
    "import os\n",
    "import time as time\n",
    "import pandas as pd\n",
    "import requests"
   ]
  },
  {
   "cell_type": "code",
   "execution_count": 28,
   "metadata": {},
   "outputs": [],
   "source": [
    "import warnings\n",
    "from requests.packages.urllib3.exceptions import InsecureRequestWarning\n",
    "warnings.simplefilter(\"ignore\", InsecureRequestWarning)"
   ]
  },
  {
   "cell_type": "markdown",
   "metadata": {
    "id": "wsX77gMF8N0L"
   },
   "source": [
    "# Use ESRS Propsector API"
   ]
  },
  {
   "cell_type": "markdown",
   "metadata": {
    "id": "gAYxsLMvJyKm"
   },
   "source": [
    "## Globals"
   ]
  },
  {
   "cell_type": "code",
   "execution_count": 29,
   "metadata": {
    "colab": {
     "base_uri": "https://localhost:8080/",
     "height": 36
    },
    "id": "Yl2YiZwDInxL",
    "outputId": "b6ab1dcd-875f-4f1a-a6be-9935e5481eb7"
   },
   "outputs": [
    {
     "data": {
      "text/plain": [
       "'/var/home/ikarius/Projects/portail-rse/portail-rse-externe/esg-api/notebook'"
      ]
     },
     "execution_count": 29,
     "metadata": {},
     "output_type": "execute_result"
    }
   ],
   "source": [
    "# Get current dir\n",
    "os.getcwd()"
   ]
  },
  {
   "cell_type": "code",
   "execution_count": 30,
   "metadata": {},
   "outputs": [],
   "source": [
    "filename = \"YOUR_PDF_FILE_NAME\""
   ]
  },
  {
   "cell_type": "code",
   "execution_count": 31,
   "metadata": {},
   "outputs": [],
   "source": [
    "api_url = \"https://YOUR_SERVERNAME.COM\""
   ]
  },
  {
   "cell_type": "markdown",
   "metadata": {
    "id": "t7iP26dWNQf5"
   },
   "source": [
    "## Get API status"
   ]
  },
  {
   "cell_type": "code",
   "execution_count": 32,
   "metadata": {
    "colab": {
     "base_uri": "https://localhost:8080/"
    },
    "id": "uuJpnF0m8GOp",
    "outputId": "e1ec592e-6405-40b1-dece-2cdd2fea7465"
   },
   "outputs": [
    {
     "name": "stdout",
     "output_type": "stream",
     "text": [
      "{'status': {'code': 0, 'msg': 'API is alive'}}\n",
      "       - Elapsed time : 0 s\n"
     ]
    }
   ],
   "source": [
    "try:\n",
    "  t0 = time.time()\n",
    "  response = requests.get(api_url+\"/ping\", verify=False)\n",
    "  print(response.json())\n",
    "  print(\"       - Elapsed time :\", round(time.time()-t0), \"s\")\n",
    "except requests.exceptions.HTTPError as errh:\n",
    "    print(errh)\n",
    "except requests.exceptions.ConnectionError as errc:\n",
    "    print(errc)\n",
    "except requests.exceptions.Timeout as errt:\n",
    "    print(errt)\n",
    "except requests.exceptions.RequestException as err:\n",
    "    print(err)"
   ]
  },
  {
   "cell_type": "markdown",
   "metadata": {
    "id": "KIc2r-x1NXDW"
   },
   "source": [
    "## Post a pdf file"
   ]
  },
  {
   "cell_type": "markdown",
   "metadata": {
    "id": "4DSV1yfpNb8f"
   },
   "source": [
    "### Send a PDF to API"
   ]
  },
  {
   "cell_type": "code",
   "execution_count": 33,
   "metadata": {
    "colab": {
     "base_uri": "https://localhost:8080/"
    },
    "id": "vE0j9is7LGt7",
    "outputId": "4524f3a1-a71e-4c99-dcfd-fcfc040f0851"
   },
   "outputs": [
    {
     "name": "stdout",
     "output_type": "stream",
     "text": [
      "\n",
      "Status Code 200\n",
      "JSON Response  {'pdfkey': 'h_q0ivao', 'status': {'code': 0, 'msg': 'PDF is uploaded'}}\n",
      "pdfkey : --> h_q0ivao <--\n",
      "       - Elapsed time : 4 s\n"
     ]
    }
   ],
   "source": [
    "filepath = './'+ filename +'.pdf'\n",
    "\n",
    "try:\n",
    "\n",
    "  t0 = time.time()\n",
    "  url = api_url+'/upload'\n",
    "\n",
    "  mp = {'file':(filepath, open(filepath, 'rb'), \"multipart/form-data\")}\n",
    "  response = requests.post(url, files=mp, verify=False)\n",
    "\n",
    "  resp_dict = response.json()\n",
    "  pdfkey_dg = resp_dict.get('pdfkey')\n",
    "  print()\n",
    "  print(\"Status Code\", response.status_code)\n",
    "  print(\"JSON Response \", resp_dict)\n",
    "  print('pdfkey : -->', pdfkey_dg ,\"<--\")\n",
    "  print(\"       - Elapsed time :\", round(time.time()-t0), \"s\")\n",
    "\n",
    "except requests.exceptions.HTTPError as errh:\n",
    "    print(\"1\",errh)\n",
    "except requests.exceptions.ConnectionError as errc:\n",
    "    print(\"2\",errc)\n",
    "except requests.exceptions.Timeout as errt:\n",
    "    print(\"3\",errt)\n",
    "except requests.exceptions.RequestException as err:\n",
    "    print(\"4\",err)"
   ]
  },
  {
   "cell_type": "code",
   "execution_count": 34,
   "metadata": {
    "id": "tylYwXdvODGJ"
   },
   "outputs": [],
   "source": [
    "# List of pdf_keys and pdf documents (only one here)\n",
    "pdfkeys = [pdfkey_dg]\n",
    "pdfnames = [filename]"
   ]
  },
  {
   "cell_type": "markdown",
   "metadata": {
    "id": "HouXctTYOo9T"
   },
   "source": [
    "## Convert PDFs to texts"
   ]
  },
  {
   "cell_type": "code",
   "execution_count": 35,
   "metadata": {
    "colab": {
     "base_uri": "https://localhost:8080/"
    },
    "id": "JNUHr15tOCUq",
    "outputId": "97b4a585-ae3c-4b86-b57d-6ef656254d4e"
   },
   "outputs": [
    {
     "name": "stdout",
     "output_type": "stream",
     "text": [
      "{'nbtexts': 394, 'status': {'code': 0, 'msg': 'PDF is converted to TXT'}}\n",
      "       - Elapsed time : 1 s\n"
     ]
    }
   ],
   "source": [
    "for k in pdfkeys:\n",
    "\n",
    "  url = api_url+\"/pdf2txt?pdfkey=\"+k\n",
    "\n",
    "  try:\n",
    "    t0 = time.time()\n",
    "    response = requests.get(url, verify=False)\n",
    "    print(response.json())\n",
    "    print(\"       - Elapsed time :\", round(time.time()-t0), \"s\")\n",
    "\n",
    "  except requests.exceptions.HTTPError as errh:\n",
    "      print(errh)\n",
    "  except requests.exceptions.ConnectionError as errc:\n",
    "      print(errc)\n",
    "  except requests.exceptions.Timeout as errt:\n",
    "      print(errt)\n",
    "  except requests.exceptions.RequestException as err:\n",
    "      print(err)\n",
    "\n"
   ]
  },
  {
   "cell_type": "markdown",
   "metadata": {
    "id": "nDKuJLCXPCPD"
   },
   "source": [
    "## Predict ESRS from Texts (in background)\n"
   ]
  },
  {
   "cell_type": "code",
   "execution_count": 43,
   "metadata": {
    "colab": {
     "base_uri": "https://localhost:8080/"
    },
    "id": "ghJyjP2hPPQR",
    "outputId": "4edc06d5-e294-4f88-a909-5b31b237cb69"
   },
   "outputs": [
    {
     "name": "stdout",
     "output_type": "stream",
     "text": [
      "\n",
      " - pdf_key : h_q0ivao\n",
      "{'status': {'code': 0, 'msg': 'Task started'}}\n",
      "       - Elapsed time : 1 s\n"
     ]
    }
   ],
   "source": [
    "for k in pdfkeys:\n",
    "\n",
    "  print()\n",
    "  print(\" - pdf_key :\", k)\n",
    "\n",
    "  url = api_url+\"/esrspredict?pdfkey=\"+k\n",
    "  \n",
    "  try:\n",
    "    t0 = time.time()\n",
    "    response = requests.get(url, verify=False)\n",
    "    print(response.json())    \n",
    "    print(\"       - Elapsed time :\", round(time.time()-t0), \"s\")\n",
    "\n",
    "  except requests.exceptions.HTTPError as errh:\n",
    "      print(errh)\n",
    "  except requests.exceptions.ConnectionError as errc:\n",
    "      print(errc)\n",
    "  except requests.exceptions.Timeout as errt:\n",
    "      print(errt)\n",
    "  except requests.exceptions.RequestException as err:\n",
    "      print(err)"
   ]
  },
  {
   "cell_type": "markdown",
   "metadata": {},
   "source": [
    "## Check the pdfkey activity"
   ]
  },
  {
   "cell_type": "code",
   "execution_count": 44,
   "metadata": {},
   "outputs": [
    {
     "name": "stdout",
     "output_type": "stream",
     "text": [
      "https://ns31445064.ip-141-94-97.eu/checkactivetask?pdfkey=h_q0ivao\n",
      "\n",
      "{'status': {'code': 0, 'msg': 'Task is checked'}, 'task_status': '1 active'}\n",
      "       - Elapsed time : 1 s\n"
     ]
    }
   ],
   "source": [
    "for k in pdfkeys:\n",
    "\n",
    "  url = api_url+\"/checkactivetask?pdfkey=\"+k\n",
    "  print(url+\"\\n\")\n",
    "\n",
    "  try:\n",
    "    t0 = time.time()\n",
    "    response = requests.get(url, verify=False)\n",
    "    print(response.json())\n",
    "    print(\"       - Elapsed time :\", round(time.time()-t0), \"s\")\n",
    "\n",
    "  except requests.exceptions.HTTPError as errh:\n",
    "      print(errh)\n",
    "  except requests.exceptions.ConnectionError as errc:\n",
    "      print(errc)\n",
    "  except requests.exceptions.Timeout as errt:\n",
    "      print(errt)\n",
    "  except requests.exceptions.RequestException as err:\n",
    "      print(err)\n"
   ]
  },
  {
   "cell_type": "markdown",
   "metadata": {},
   "source": [
    "## Check the number of tasks in background"
   ]
  },
  {
   "cell_type": "code",
   "execution_count": 47,
   "metadata": {},
   "outputs": [
    {
     "name": "stdout",
     "output_type": "stream",
     "text": [
      "https://ns31445064.ip-141-94-97.eu/getnbactivetasks\n",
      "\n",
      "{'nb_tasks': '0', 'status': {'code': 0, 'msg': 'Number of tasks returned'}}\n",
      "       - Elapsed time : 0 s\n"
     ]
    }
   ],
   "source": [
    "url = api_url+\"/getnbactivetasks\"\n",
    "print(url+\"\\n\")\n",
    "\n",
    "try:\n",
    "  t0 = time.time()\n",
    "  response = requests.get(url, verify=False)\n",
    "  print(response.json())\n",
    "  print(\"       - Elapsed time :\", round(time.time()-t0), \"s\")\n",
    "\n",
    "except requests.exceptions.HTTPError as errh:\n",
    "    print(errh)\n",
    "except requests.exceptions.ConnectionError as errc:\n",
    "    print(errc)\n",
    "except requests.exceptions.Timeout as errt:\n",
    "    print(errt)\n",
    "except requests.exceptions.RequestException as err:\n",
    "    print(err)"
   ]
  },
  {
   "cell_type": "markdown",
   "metadata": {
    "id": "DoUp96z1QUTp"
   },
   "source": [
    "## Get Texts"
   ]
  },
  {
   "cell_type": "code",
   "execution_count": 48,
   "metadata": {
    "colab": {
     "base_uri": "https://localhost:8080/"
    },
    "id": "PncVh69ePP6p",
    "outputId": "af7ae805-f74d-4592-a9c0-3ca989776da3"
   },
   "outputs": [
    {
     "name": "stdout",
     "output_type": "stream",
     "text": [
      "\n",
      " - pdf_key : h_q0ivao\n",
      "   - nb texts : 394\n",
      "       - Elapsed time : 0 s\n"
     ]
    }
   ],
   "source": [
    "from io import StringIO\n",
    "\n",
    "texts_pd_key = {}\n",
    "\n",
    "for k in pdfkeys:\n",
    "\n",
    "  print()\n",
    "  print(\" - pdf_key :\", k)\n",
    "\n",
    "  url = api_url+\"/gettxtfile?pdfkey=\"+k\n",
    "\n",
    "  try:\n",
    "    t0 = time.time()\n",
    "    response = requests.get(url, verify=False)\n",
    "    data = StringIO(str(response.content,'utf-8'))\n",
    "    texts_pd_key[k] = pd.read_csv(data)\n",
    "    print(\"   - nb texts :\", len(texts_pd_key[k]))\n",
    "    print(\"       - Elapsed time :\", round(time.time()-t0), \"s\")\n",
    "\n",
    "  except requests.exceptions.HTTPError as errh:\n",
    "      print(errh)\n",
    "  except requests.exceptions.ConnectionError as errc:\n",
    "      print(errc)\n",
    "  except requests.exceptions.Timeout as errt:\n",
    "      print(errt)\n",
    "  except requests.exceptions.RequestException as err:\n",
    "      print(err)"
   ]
  },
  {
   "cell_type": "code",
   "execution_count": 49,
   "metadata": {
    "colab": {
     "base_uri": "https://localhost:8080/"
    },
    "id": "pkjdpoLIQYKw",
    "outputId": "e56c5486-59de-4663-c343-47a01d6dc7eb"
   },
   "outputs": [
    {
     "data": {
      "text/html": [
       "<div>\n",
       "<style scoped>\n",
       "    .dataframe tbody tr th:only-of-type {\n",
       "        vertical-align: middle;\n",
       "    }\n",
       "\n",
       "    .dataframe tbody tr th {\n",
       "        vertical-align: top;\n",
       "    }\n",
       "\n",
       "    .dataframe thead th {\n",
       "        text-align: right;\n",
       "    }\n",
       "</style>\n",
       "<table border=\"1\" class=\"dataframe\">\n",
       "  <thead>\n",
       "    <tr style=\"text-align: right;\">\n",
       "      <th></th>\n",
       "      <th>PAGES</th>\n",
       "      <th>TEXTS</th>\n",
       "    </tr>\n",
       "  </thead>\n",
       "  <tbody>\n",
       "    <tr>\n",
       "      <th>0</th>\n",
       "      <td>2</td>\n",
       "      <td>Cette année s’est avérée être une périodede dé...</td>\n",
       "    </tr>\n",
       "    <tr>\n",
       "      <th>1</th>\n",
       "      <td>2</td>\n",
       "      <td>Dans cet environnement complexe, notre Groupe ...</td>\n",
       "    </tr>\n",
       "    <tr>\n",
       "      <th>2</th>\n",
       "      <td>2</td>\n",
       "      <td>Depuis deux décennies, notre participation au ...</td>\n",
       "    </tr>\n",
       "    <tr>\n",
       "      <th>3</th>\n",
       "      <td>2</td>\n",
       "      <td>La signature d’un accord de transition écologi...</td>\n",
       "    </tr>\n",
       "    <tr>\n",
       "      <th>4</th>\n",
       "      <td>2</td>\n",
       "      <td>Les récentes inondationsque nous avons subies ...</td>\n",
       "    </tr>\n",
       "    <tr>\n",
       "      <th>...</th>\n",
       "      <td>...</td>\n",
       "      <td>...</td>\n",
       "    </tr>\n",
       "    <tr>\n",
       "      <th>389</th>\n",
       "      <td>82</td>\n",
       "      <td>Ce rapport développement durable publié en jui...</td>\n",
       "    </tr>\n",
       "    <tr>\n",
       "      <th>390</th>\n",
       "      <td>82</td>\n",
       "      <td>Bien que la rédaction de ce rapport soit un ex...</td>\n",
       "    </tr>\n",
       "    <tr>\n",
       "      <th>391</th>\n",
       "      <td>82</td>\n",
       "      <td>Arc Holdings S.A.S., dont le siège est situé à...</td>\n",
       "    </tr>\n",
       "    <tr>\n",
       "      <th>392</th>\n",
       "      <td>82</td>\n",
       "      <td>Les principes fondamentaux de définition et de...</td>\n",
       "    </tr>\n",
       "    <tr>\n",
       "      <th>393</th>\n",
       "      <td>82</td>\n",
       "      <td>Les thèmes abordés dans ce rapport sont ceux c...</td>\n",
       "    </tr>\n",
       "  </tbody>\n",
       "</table>\n",
       "<p>394 rows × 2 columns</p>\n",
       "</div>"
      ],
      "text/plain": [
       "     PAGES                                              TEXTS\n",
       "0        2  Cette année s’est avérée être une périodede dé...\n",
       "1        2  Dans cet environnement complexe, notre Groupe ...\n",
       "2        2  Depuis deux décennies, notre participation au ...\n",
       "3        2  La signature d’un accord de transition écologi...\n",
       "4        2  Les récentes inondationsque nous avons subies ...\n",
       "..     ...                                                ...\n",
       "389     82  Ce rapport développement durable publié en jui...\n",
       "390     82  Bien que la rédaction de ce rapport soit un ex...\n",
       "391     82  Arc Holdings S.A.S., dont le siège est situé à...\n",
       "392     82  Les principes fondamentaux de définition et de...\n",
       "393     82  Les thèmes abordés dans ce rapport sont ceux c...\n",
       "\n",
       "[394 rows x 2 columns]"
      ]
     },
     "execution_count": 49,
     "metadata": {},
     "output_type": "execute_result"
    }
   ],
   "source": [
    "texts_pd_key.get(pdfkeys[0])#.TEXTS"
   ]
  },
  {
   "cell_type": "markdown",
   "metadata": {
    "id": "7t3mHg7fTTtF"
   },
   "source": [
    "## Get predictions\n",
    "\n"
   ]
  },
  {
   "cell_type": "code",
   "execution_count": 51,
   "metadata": {},
   "outputs": [
    {
     "name": "stdout",
     "output_type": "stream",
     "text": [
      "\n",
      " - pdf_key : h_q0ivao\n",
      "       - Elapsed time : 0 s\n",
      "   PAGES                                              TEXTS  \\\n",
      "0      2  Cette année s’est avérée être une périodede dé...   \n",
      "1      2  Dans cet environnement complexe, notre Groupe ...   \n",
      "2      2  Depuis deux décennies, notre participation au ...   \n",
      "3      2  La signature d’un accord de transition écologi...   \n",
      "4      2  Les récentes inondationsque nous avons subies ...   \n",
      "\n",
      "                                    ESRS  \n",
      "0                               Non ESRS  \n",
      "1        ESRS G1 - Conduite des affaires  \n",
      "2        ESRS G1 - Conduite des affaires  \n",
      "3        ESRS E1 : Changement climatique  \n",
      "4  ESRS E4 - Biodiversité et écosystèmes  \n"
     ]
    }
   ],
   "source": [
    "from io import StringIO\n",
    "\n",
    "preds_pd_key = {}\n",
    "\n",
    "for k in pdfkeys:\n",
    "  print()\n",
    "  print(\" - pdf_key :\", k)\n",
    "\n",
    "  df_pdf_key = pd.DataFrame([])\n",
    "\n",
    "  url = api_url+\"/getpredsfile?pdfkey=\"+k\n",
    "\n",
    "  try:\n",
    "    t0 = time.time()\n",
    "    response = requests.get(url, verify=False)\n",
    "    data = StringIO(str(response.content,'utf-8'))\n",
    "    df = pd.read_csv(data)\n",
    "    print(\"       - Elapsed time :\", round(time.time()-t0), \"s\")\n",
    "    print(df.head())\n",
    "\n",
    "  except requests.exceptions.HTTPError as errh:\n",
    "      print(errh)\n",
    "  except requests.exceptions.ConnectionError as errc:\n",
    "      print(errc)\n",
    "  except requests.exceptions.Timeout as errt:\n",
    "      print(errt)\n",
    "  except requests.exceptions.RequestException as err:\n",
    "      print(err)"
   ]
  },
  {
   "cell_type": "markdown",
   "metadata": {
    "id": "0SDZ93WzYqYr"
   },
   "source": [
    "## Clean pdf_key\n"
   ]
  },
  {
   "cell_type": "code",
   "execution_count": 52,
   "metadata": {
    "colab": {
     "base_uri": "https://localhost:8080/"
    },
    "id": "cas-vMTwLY_9",
    "outputId": "9013cdbb-9297-4f1b-f9a7-e5865df13510"
   },
   "outputs": [
    {
     "name": "stdout",
     "output_type": "stream",
     "text": [
      "\n",
      " - pdf_key : h_q0ivao\n",
      "{'status': {'code': 0, 'msg': 'Cleaning done'}}\n",
      "       - Elapsed time : 0 s\n"
     ]
    }
   ],
   "source": [
    "for k in pdfkeys:\n",
    "\n",
    "  print()\n",
    "  print(\" - pdf_key :\", k)\n",
    "\n",
    "  url = api_url+\"/clean?pdfkey=\"+k\n",
    "\n",
    "  try:\n",
    "\n",
    "    t0 = time.time()\n",
    "    response = requests.get(url, verify=False)\n",
    "    print(response.json())\n",
    "    print(\"       - Elapsed time :\", round(time.time()-t0), \"s\")\n",
    "\n",
    "  except requests.exceptions.HTTPError as errh:\n",
    "      print(errh)\n",
    "  except requests.exceptions.ConnectionError as errc:\n",
    "      print(errc)\n",
    "  except requests.exceptions.Timeout as errt:\n",
    "      print(errt)\n",
    "  except requests.exceptions.RequestException as err:\n",
    "      print(err)"
   ]
  },
  {
   "cell_type": "markdown",
   "metadata": {
    "id": "jSRtuUUM8Jv4"
   },
   "source": [
    "# End of game"
   ]
  }
 ],
 "metadata": {
  "colab": {
   "machine_shape": "hm",
   "provenance": [],
   "toc_visible": true
  },
  "gpuClass": "standard",
  "kernelspec": {
   "display_name": "Python 3 (ipykernel)",
   "language": "python",
   "name": "python3"
  },
  "language_info": {
   "codemirror_mode": {
    "name": "ipython",
    "version": 3
   },
   "file_extension": ".py",
   "mimetype": "text/x-python",
   "name": "python",
   "nbconvert_exporter": "python",
   "pygments_lexer": "ipython3",
   "version": "3.12.8"
  }
 },
 "nbformat": 4,
 "nbformat_minor": 4
}
